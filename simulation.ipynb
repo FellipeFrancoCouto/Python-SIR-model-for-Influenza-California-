#Importing Numpy, useful package to the simulation
import numpy as np
t0 = 0 #0 days (start)
t_end = 25 #25 days (End)
h = 0.10 #steps
steps = int((t_end - t0)/h + 1) # number of steps
t = np.linspace(t0, t_end, steps) # storing t values
S = np.zeros(steps) # for storing S values
I = np.zeros(steps) # for storing I values
R= np.zeros(steps) # for storing R values
b = 0.039928 #infection rate - check README
#Important note: As I divided my S[0] and I[0] by 1 x 10**6, b shall be multiplied by 1 x 10**6.
k = 0.03517 #recovery rate

def dSdt(t,S,I):
# dS/dt
    return -b * S * I #dSdt
def dIdt(t,S,I):
# dI/dt
    return (b * S - k) * I
def dRdt(t,S,I):
    return k * I
# initial condition
S[0] = 38 #38 million people are susceptible (initial)
I[0] = 2 #2 million people are infected (initial)
R[0]= 0 #0 people are removed (initial)
for n in range(steps-1): # range(start, stop, step)
    S[n+1] = S[n] + h*dSdt(t[n],S[n],I[n])
    I[n+1] = I[n] +  h*dIdt(t[n],S[n],I[n])
    R[n+1] = R[n] +  h*dRdt(t[n],S[n],I[n])
import matplotlib.pyplot as plt #import library
%matplotlib inline
plt.rcParams.update({'font.size': 15})
plt.rcParams["figure.figsize"] = [8,5]
plt.plot(t,S,linewidth=2,label='S(t)') #Sets up S(t) line
plt.plot(t,I,linewidth=2,label='I(t)') #Sets up I(t) line
plt.plot(t,R,linewidth=2,label='R(t)') #Sets up R(t) line
plt.xlabel('t') #x axis label
plt.ylabel('S, I') #y axis label
plt.title('SIR Model for Influenza') #title
plt.legend(loc='best') #adds legend

plt.show() #display graph
#Adapted Study Code
